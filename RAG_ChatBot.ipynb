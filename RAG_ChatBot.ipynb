{
  "nbformat": 4,
  "nbformat_minor": 0,
  "metadata": {
    "colab": {
      "provenance": [],
      "include_colab_link": true
    },
    "kernelspec": {
      "name": "python3",
      "display_name": "Python 3"
    },
    "language_info": {
      "name": "python"
    }
  },
  "cells": [
    {
      "cell_type": "markdown",
      "metadata": {
        "id": "view-in-github",
        "colab_type": "text"
      },
      "source": [
        "<a href=\"https://colab.research.google.com/github/vidhyampp/AI-Travel-Planner/blob/main/RAG_ChatBot.ipynb\" target=\"_parent\"><img src=\"https://colab.research.google.com/assets/colab-badge.svg\" alt=\"Open In Colab\"/></a>"
      ]
    },
    {
      "cell_type": "markdown",
      "source": [
        "1. Fetching the Data from the Database and giving it to the llm\n",
        "---In this experiment I tried to create a RAG pipeline for the chatbot which answers the questions on the dsl lab\n",
        "2. ChromaDB is used as the vector database\n",
        "---OpenAI as LLM\n",
        "3. Setup OpenAI API Key and import it to the collab\n",
        "4. Explored the LangChain > went to how to load web pages\n",
        "5. Used web base loader from lang chain community, can give list of websites or one website , print the docs to see it scrapped or not\n",
        "6. Split the entire data into splits > Text splitters in langchain- chunk_size and chunk_over ,(if the texts are available in two chunks, overlapp allows it to understand that its the continuation )- used RecursiveCharacterTextSplitter function here\n",
        "7. Print the splits to see the data splitted and overlapped\n",
        "8. Change the splits into vectors(text into numbers(vectors). Using openAIEmbeddings to convert text into vectors\n",
        "9. Print the collection and the id's of the collection\n",
        "10. Create the RAG Pipeline"
      ],
      "metadata": {
        "id": "UI9E4aWcmLvr"
      }
    },
    {
      "cell_type": "code",
      "source": [
        "!pip install langchain_community langchainhub chromadb langchain langchain-openai"
      ],
      "metadata": {
        "colab": {
          "base_uri": "https://localhost:8080/"
        },
        "id": "Bp8QGO55xqSM",
        "outputId": "d00d662a-a9c0-418f-a5b4-9eae3121a82a"
      },
      "execution_count": 44,
      "outputs": [
        {
          "output_type": "stream",
          "name": "stdout",
          "text": [
            "Requirement already satisfied: langchain_community in /usr/local/lib/python3.12/dist-packages (0.3.31)\n",
            "Requirement already satisfied: langchainhub in /usr/local/lib/python3.12/dist-packages (0.1.21)\n",
            "Requirement already satisfied: chromadb in /usr/local/lib/python3.12/dist-packages (1.1.1)\n",
            "Requirement already satisfied: langchain in /usr/local/lib/python3.12/dist-packages (0.3.27)\n",
            "Requirement already satisfied: langchain-openai in /usr/local/lib/python3.12/dist-packages (0.3.35)\n",
            "Requirement already satisfied: langchain-core<2.0.0,>=0.3.78 in /usr/local/lib/python3.12/dist-packages (from langchain_community) (0.3.78)\n",
            "Requirement already satisfied: SQLAlchemy<3.0.0,>=1.4.0 in /usr/local/lib/python3.12/dist-packages (from langchain_community) (2.0.43)\n",
            "Requirement already satisfied: requests<3.0.0,>=2.32.5 in /usr/local/lib/python3.12/dist-packages (from langchain_community) (2.32.5)\n",
            "Requirement already satisfied: PyYAML<7.0.0,>=5.3.0 in /usr/local/lib/python3.12/dist-packages (from langchain_community) (6.0.3)\n",
            "Requirement already satisfied: aiohttp<4.0.0,>=3.8.3 in /usr/local/lib/python3.12/dist-packages (from langchain_community) (3.13.0)\n",
            "Requirement already satisfied: tenacity!=8.4.0,<10.0.0,>=8.1.0 in /usr/local/lib/python3.12/dist-packages (from langchain_community) (8.5.0)\n",
            "Requirement already satisfied: dataclasses-json<0.7.0,>=0.6.7 in /usr/local/lib/python3.12/dist-packages (from langchain_community) (0.6.7)\n",
            "Requirement already satisfied: pydantic-settings<3.0.0,>=2.10.1 in /usr/local/lib/python3.12/dist-packages (from langchain_community) (2.11.0)\n",
            "Requirement already satisfied: langsmith<1.0.0,>=0.1.125 in /usr/local/lib/python3.12/dist-packages (from langchain_community) (0.4.33)\n",
            "Requirement already satisfied: httpx-sse<1.0.0,>=0.4.0 in /usr/local/lib/python3.12/dist-packages (from langchain_community) (0.4.2)\n",
            "Requirement already satisfied: numpy>=1.26.2 in /usr/local/lib/python3.12/dist-packages (from langchain_community) (2.0.2)\n",
            "Requirement already satisfied: packaging<25,>=23.2 in /usr/local/lib/python3.12/dist-packages (from langchainhub) (24.2)\n",
            "Requirement already satisfied: types-requests<3.0.0.0,>=2.31.0.2 in /usr/local/lib/python3.12/dist-packages (from langchainhub) (2.32.4.20250913)\n",
            "Requirement already satisfied: build>=1.0.3 in /usr/local/lib/python3.12/dist-packages (from chromadb) (1.3.0)\n",
            "Requirement already satisfied: pydantic>=1.9 in /usr/local/lib/python3.12/dist-packages (from chromadb) (2.11.10)\n",
            "Requirement already satisfied: pybase64>=1.4.1 in /usr/local/lib/python3.12/dist-packages (from chromadb) (1.4.2)\n",
            "Requirement already satisfied: uvicorn>=0.18.3 in /usr/local/lib/python3.12/dist-packages (from uvicorn[standard]>=0.18.3->chromadb) (0.37.0)\n",
            "Requirement already satisfied: posthog<6.0.0,>=2.4.0 in /usr/local/lib/python3.12/dist-packages (from chromadb) (5.4.0)\n",
            "Requirement already satisfied: typing-extensions>=4.5.0 in /usr/local/lib/python3.12/dist-packages (from chromadb) (4.15.0)\n",
            "Requirement already satisfied: onnxruntime>=1.14.1 in /usr/local/lib/python3.12/dist-packages (from chromadb) (1.23.1)\n",
            "Requirement already satisfied: opentelemetry-api>=1.2.0 in /usr/local/lib/python3.12/dist-packages (from chromadb) (1.37.0)\n",
            "Requirement already satisfied: opentelemetry-exporter-otlp-proto-grpc>=1.2.0 in /usr/local/lib/python3.12/dist-packages (from chromadb) (1.37.0)\n",
            "Requirement already satisfied: opentelemetry-sdk>=1.2.0 in /usr/local/lib/python3.12/dist-packages (from chromadb) (1.37.0)\n",
            "Requirement already satisfied: tokenizers>=0.13.2 in /usr/local/lib/python3.12/dist-packages (from chromadb) (0.22.1)\n",
            "Requirement already satisfied: pypika>=0.48.9 in /usr/local/lib/python3.12/dist-packages (from chromadb) (0.48.9)\n",
            "Requirement already satisfied: tqdm>=4.65.0 in /usr/local/lib/python3.12/dist-packages (from chromadb) (4.67.1)\n",
            "Requirement already satisfied: overrides>=7.3.1 in /usr/local/lib/python3.12/dist-packages (from chromadb) (7.7.0)\n",
            "Requirement already satisfied: importlib-resources in /usr/local/lib/python3.12/dist-packages (from chromadb) (6.5.2)\n",
            "Requirement already satisfied: grpcio>=1.58.0 in /usr/local/lib/python3.12/dist-packages (from chromadb) (1.75.1)\n",
            "Requirement already satisfied: bcrypt>=4.0.1 in /usr/local/lib/python3.12/dist-packages (from chromadb) (5.0.0)\n",
            "Requirement already satisfied: typer>=0.9.0 in /usr/local/lib/python3.12/dist-packages (from chromadb) (0.19.2)\n",
            "Requirement already satisfied: kubernetes>=28.1.0 in /usr/local/lib/python3.12/dist-packages (from chromadb) (34.1.0)\n",
            "Requirement already satisfied: mmh3>=4.0.1 in /usr/local/lib/python3.12/dist-packages (from chromadb) (5.2.0)\n",
            "Requirement already satisfied: orjson>=3.9.12 in /usr/local/lib/python3.12/dist-packages (from chromadb) (3.11.3)\n",
            "Requirement already satisfied: httpx>=0.27.0 in /usr/local/lib/python3.12/dist-packages (from chromadb) (0.28.1)\n",
            "Requirement already satisfied: rich>=10.11.0 in /usr/local/lib/python3.12/dist-packages (from chromadb) (13.9.4)\n",
            "Requirement already satisfied: jsonschema>=4.19.0 in /usr/local/lib/python3.12/dist-packages (from chromadb) (4.25.1)\n",
            "Requirement already satisfied: langchain-text-splitters<1.0.0,>=0.3.9 in /usr/local/lib/python3.12/dist-packages (from langchain) (0.3.11)\n",
            "Requirement already satisfied: openai<3.0.0,>=1.104.2 in /usr/local/lib/python3.12/dist-packages (from langchain-openai) (1.109.1)\n",
            "Requirement already satisfied: tiktoken<1.0.0,>=0.7.0 in /usr/local/lib/python3.12/dist-packages (from langchain-openai) (0.12.0)\n",
            "Requirement already satisfied: aiohappyeyeballs>=2.5.0 in /usr/local/lib/python3.12/dist-packages (from aiohttp<4.0.0,>=3.8.3->langchain_community) (2.6.1)\n",
            "Requirement already satisfied: aiosignal>=1.4.0 in /usr/local/lib/python3.12/dist-packages (from aiohttp<4.0.0,>=3.8.3->langchain_community) (1.4.0)\n",
            "Requirement already satisfied: attrs>=17.3.0 in /usr/local/lib/python3.12/dist-packages (from aiohttp<4.0.0,>=3.8.3->langchain_community) (25.4.0)\n",
            "Requirement already satisfied: frozenlist>=1.1.1 in /usr/local/lib/python3.12/dist-packages (from aiohttp<4.0.0,>=3.8.3->langchain_community) (1.8.0)\n",
            "Requirement already satisfied: multidict<7.0,>=4.5 in /usr/local/lib/python3.12/dist-packages (from aiohttp<4.0.0,>=3.8.3->langchain_community) (6.7.0)\n",
            "Requirement already satisfied: propcache>=0.2.0 in /usr/local/lib/python3.12/dist-packages (from aiohttp<4.0.0,>=3.8.3->langchain_community) (0.3.2)\n",
            "Requirement already satisfied: yarl<2.0,>=1.17.0 in /usr/local/lib/python3.12/dist-packages (from aiohttp<4.0.0,>=3.8.3->langchain_community) (1.22.0)\n",
            "Requirement already satisfied: pyproject_hooks in /usr/local/lib/python3.12/dist-packages (from build>=1.0.3->chromadb) (1.2.0)\n",
            "Requirement already satisfied: marshmallow<4.0.0,>=3.18.0 in /usr/local/lib/python3.12/dist-packages (from dataclasses-json<0.7.0,>=0.6.7->langchain_community) (3.26.1)\n",
            "Requirement already satisfied: typing-inspect<1,>=0.4.0 in /usr/local/lib/python3.12/dist-packages (from dataclasses-json<0.7.0,>=0.6.7->langchain_community) (0.9.0)\n",
            "Requirement already satisfied: anyio in /usr/local/lib/python3.12/dist-packages (from httpx>=0.27.0->chromadb) (4.11.0)\n",
            "Requirement already satisfied: certifi in /usr/local/lib/python3.12/dist-packages (from httpx>=0.27.0->chromadb) (2025.10.5)\n",
            "Requirement already satisfied: httpcore==1.* in /usr/local/lib/python3.12/dist-packages (from httpx>=0.27.0->chromadb) (1.0.9)\n",
            "Requirement already satisfied: idna in /usr/local/lib/python3.12/dist-packages (from httpx>=0.27.0->chromadb) (3.10)\n",
            "Requirement already satisfied: h11>=0.16 in /usr/local/lib/python3.12/dist-packages (from httpcore==1.*->httpx>=0.27.0->chromadb) (0.16.0)\n",
            "Requirement already satisfied: jsonschema-specifications>=2023.03.6 in /usr/local/lib/python3.12/dist-packages (from jsonschema>=4.19.0->chromadb) (2025.9.1)\n",
            "Requirement already satisfied: referencing>=0.28.4 in /usr/local/lib/python3.12/dist-packages (from jsonschema>=4.19.0->chromadb) (0.36.2)\n",
            "Requirement already satisfied: rpds-py>=0.7.1 in /usr/local/lib/python3.12/dist-packages (from jsonschema>=4.19.0->chromadb) (0.27.1)\n",
            "Requirement already satisfied: six>=1.9.0 in /usr/local/lib/python3.12/dist-packages (from kubernetes>=28.1.0->chromadb) (1.17.0)\n",
            "Requirement already satisfied: python-dateutil>=2.5.3 in /usr/local/lib/python3.12/dist-packages (from kubernetes>=28.1.0->chromadb) (2.9.0.post0)\n",
            "Requirement already satisfied: google-auth>=1.0.1 in /usr/local/lib/python3.12/dist-packages (from kubernetes>=28.1.0->chromadb) (2.38.0)\n",
            "Requirement already satisfied: websocket-client!=0.40.0,!=0.41.*,!=0.42.*,>=0.32.0 in /usr/local/lib/python3.12/dist-packages (from kubernetes>=28.1.0->chromadb) (1.9.0)\n",
            "Requirement already satisfied: requests-oauthlib in /usr/local/lib/python3.12/dist-packages (from kubernetes>=28.1.0->chromadb) (2.0.0)\n",
            "Requirement already satisfied: urllib3<2.4.0,>=1.24.2 in /usr/local/lib/python3.12/dist-packages (from kubernetes>=28.1.0->chromadb) (2.3.0)\n",
            "Requirement already satisfied: durationpy>=0.7 in /usr/local/lib/python3.12/dist-packages (from kubernetes>=28.1.0->chromadb) (0.10)\n",
            "Requirement already satisfied: jsonpatch<2.0.0,>=1.33.0 in /usr/local/lib/python3.12/dist-packages (from langchain-core<2.0.0,>=0.3.78->langchain_community) (1.33)\n",
            "Requirement already satisfied: requests-toolbelt>=1.0.0 in /usr/local/lib/python3.12/dist-packages (from langsmith<1.0.0,>=0.1.125->langchain_community) (1.0.0)\n",
            "Requirement already satisfied: zstandard>=0.23.0 in /usr/local/lib/python3.12/dist-packages (from langsmith<1.0.0,>=0.1.125->langchain_community) (0.25.0)\n",
            "Requirement already satisfied: coloredlogs in /usr/local/lib/python3.12/dist-packages (from onnxruntime>=1.14.1->chromadb) (15.0.1)\n",
            "Requirement already satisfied: flatbuffers in /usr/local/lib/python3.12/dist-packages (from onnxruntime>=1.14.1->chromadb) (25.9.23)\n",
            "Requirement already satisfied: protobuf in /usr/local/lib/python3.12/dist-packages (from onnxruntime>=1.14.1->chromadb) (5.29.5)\n",
            "Requirement already satisfied: sympy in /usr/local/lib/python3.12/dist-packages (from onnxruntime>=1.14.1->chromadb) (1.13.3)\n",
            "Requirement already satisfied: distro<2,>=1.7.0 in /usr/local/lib/python3.12/dist-packages (from openai<3.0.0,>=1.104.2->langchain-openai) (1.9.0)\n",
            "Requirement already satisfied: jiter<1,>=0.4.0 in /usr/local/lib/python3.12/dist-packages (from openai<3.0.0,>=1.104.2->langchain-openai) (0.11.0)\n",
            "Requirement already satisfied: sniffio in /usr/local/lib/python3.12/dist-packages (from openai<3.0.0,>=1.104.2->langchain-openai) (1.3.1)\n",
            "Requirement already satisfied: importlib-metadata<8.8.0,>=6.0 in /usr/local/lib/python3.12/dist-packages (from opentelemetry-api>=1.2.0->chromadb) (8.7.0)\n",
            "Requirement already satisfied: googleapis-common-protos~=1.57 in /usr/local/lib/python3.12/dist-packages (from opentelemetry-exporter-otlp-proto-grpc>=1.2.0->chromadb) (1.70.0)\n",
            "Requirement already satisfied: opentelemetry-exporter-otlp-proto-common==1.37.0 in /usr/local/lib/python3.12/dist-packages (from opentelemetry-exporter-otlp-proto-grpc>=1.2.0->chromadb) (1.37.0)\n",
            "Requirement already satisfied: opentelemetry-proto==1.37.0 in /usr/local/lib/python3.12/dist-packages (from opentelemetry-exporter-otlp-proto-grpc>=1.2.0->chromadb) (1.37.0)\n",
            "Requirement already satisfied: opentelemetry-semantic-conventions==0.58b0 in /usr/local/lib/python3.12/dist-packages (from opentelemetry-sdk>=1.2.0->chromadb) (0.58b0)\n",
            "Requirement already satisfied: backoff>=1.10.0 in /usr/local/lib/python3.12/dist-packages (from posthog<6.0.0,>=2.4.0->chromadb) (2.2.1)\n",
            "Requirement already satisfied: annotated-types>=0.6.0 in /usr/local/lib/python3.12/dist-packages (from pydantic>=1.9->chromadb) (0.7.0)\n",
            "Requirement already satisfied: pydantic-core==2.33.2 in /usr/local/lib/python3.12/dist-packages (from pydantic>=1.9->chromadb) (2.33.2)\n",
            "Requirement already satisfied: typing-inspection>=0.4.0 in /usr/local/lib/python3.12/dist-packages (from pydantic>=1.9->chromadb) (0.4.2)\n",
            "Requirement already satisfied: python-dotenv>=0.21.0 in /usr/local/lib/python3.12/dist-packages (from pydantic-settings<3.0.0,>=2.10.1->langchain_community) (1.1.1)\n",
            "Requirement already satisfied: charset_normalizer<4,>=2 in /usr/local/lib/python3.12/dist-packages (from requests<3.0.0,>=2.32.5->langchain_community) (3.4.3)\n",
            "Requirement already satisfied: markdown-it-py>=2.2.0 in /usr/local/lib/python3.12/dist-packages (from rich>=10.11.0->chromadb) (4.0.0)\n",
            "Requirement already satisfied: pygments<3.0.0,>=2.13.0 in /usr/local/lib/python3.12/dist-packages (from rich>=10.11.0->chromadb) (2.19.2)\n",
            "Requirement already satisfied: greenlet>=1 in /usr/local/lib/python3.12/dist-packages (from SQLAlchemy<3.0.0,>=1.4.0->langchain_community) (3.2.4)\n",
            "Requirement already satisfied: regex>=2022.1.18 in /usr/local/lib/python3.12/dist-packages (from tiktoken<1.0.0,>=0.7.0->langchain-openai) (2024.11.6)\n",
            "Requirement already satisfied: huggingface-hub<2.0,>=0.16.4 in /usr/local/lib/python3.12/dist-packages (from tokenizers>=0.13.2->chromadb) (0.35.3)\n",
            "Requirement already satisfied: click>=8.0.0 in /usr/local/lib/python3.12/dist-packages (from typer>=0.9.0->chromadb) (8.3.0)\n",
            "Requirement already satisfied: shellingham>=1.3.0 in /usr/local/lib/python3.12/dist-packages (from typer>=0.9.0->chromadb) (1.5.4)\n",
            "Requirement already satisfied: httptools>=0.6.3 in /usr/local/lib/python3.12/dist-packages (from uvicorn[standard]>=0.18.3->chromadb) (0.7.1)\n",
            "Requirement already satisfied: uvloop>=0.15.1 in /usr/local/lib/python3.12/dist-packages (from uvicorn[standard]>=0.18.3->chromadb) (0.21.0)\n",
            "Requirement already satisfied: watchfiles>=0.13 in /usr/local/lib/python3.12/dist-packages (from uvicorn[standard]>=0.18.3->chromadb) (1.1.1)\n",
            "Requirement already satisfied: websockets>=10.4 in /usr/local/lib/python3.12/dist-packages (from uvicorn[standard]>=0.18.3->chromadb) (15.0.1)\n",
            "Requirement already satisfied: cachetools<6.0,>=2.0.0 in /usr/local/lib/python3.12/dist-packages (from google-auth>=1.0.1->kubernetes>=28.1.0->chromadb) (5.5.2)\n",
            "Requirement already satisfied: pyasn1-modules>=0.2.1 in /usr/local/lib/python3.12/dist-packages (from google-auth>=1.0.1->kubernetes>=28.1.0->chromadb) (0.4.2)\n",
            "Requirement already satisfied: rsa<5,>=3.1.4 in /usr/local/lib/python3.12/dist-packages (from google-auth>=1.0.1->kubernetes>=28.1.0->chromadb) (4.9.1)\n",
            "Requirement already satisfied: filelock in /usr/local/lib/python3.12/dist-packages (from huggingface-hub<2.0,>=0.16.4->tokenizers>=0.13.2->chromadb) (3.20.0)\n",
            "Requirement already satisfied: fsspec>=2023.5.0 in /usr/local/lib/python3.12/dist-packages (from huggingface-hub<2.0,>=0.16.4->tokenizers>=0.13.2->chromadb) (2025.3.0)\n",
            "Requirement already satisfied: hf-xet<2.0.0,>=1.1.3 in /usr/local/lib/python3.12/dist-packages (from huggingface-hub<2.0,>=0.16.4->tokenizers>=0.13.2->chromadb) (1.1.10)\n",
            "Requirement already satisfied: zipp>=3.20 in /usr/local/lib/python3.12/dist-packages (from importlib-metadata<8.8.0,>=6.0->opentelemetry-api>=1.2.0->chromadb) (3.23.0)\n",
            "Requirement already satisfied: jsonpointer>=1.9 in /usr/local/lib/python3.12/dist-packages (from jsonpatch<2.0.0,>=1.33.0->langchain-core<2.0.0,>=0.3.78->langchain_community) (3.0.0)\n",
            "Requirement already satisfied: mdurl~=0.1 in /usr/local/lib/python3.12/dist-packages (from markdown-it-py>=2.2.0->rich>=10.11.0->chromadb) (0.1.2)\n",
            "Requirement already satisfied: mypy-extensions>=0.3.0 in /usr/local/lib/python3.12/dist-packages (from typing-inspect<1,>=0.4.0->dataclasses-json<0.7.0,>=0.6.7->langchain_community) (1.1.0)\n",
            "Requirement already satisfied: humanfriendly>=9.1 in /usr/local/lib/python3.12/dist-packages (from coloredlogs->onnxruntime>=1.14.1->chromadb) (10.0)\n",
            "Requirement already satisfied: oauthlib>=3.0.0 in /usr/local/lib/python3.12/dist-packages (from requests-oauthlib->kubernetes>=28.1.0->chromadb) (3.3.1)\n",
            "Requirement already satisfied: mpmath<1.4,>=1.1.0 in /usr/local/lib/python3.12/dist-packages (from sympy->onnxruntime>=1.14.1->chromadb) (1.3.0)\n",
            "Requirement already satisfied: pyasn1<0.7.0,>=0.6.1 in /usr/local/lib/python3.12/dist-packages (from pyasn1-modules>=0.2.1->google-auth>=1.0.1->kubernetes>=28.1.0->chromadb) (0.6.1)\n"
          ]
        }
      ]
    },
    {
      "cell_type": "markdown",
      "source": [],
      "metadata": {
        "id": "CuOOw9OfmGH1"
      }
    },
    {
      "cell_type": "code",
      "source": [
        "# 1) Install to an isolated target dir\n",
        "%pip install -q -t /content/libs \\\n",
        "  \"requests==2.32.5\" \"packaging==24.2\" \"urllib3==2.3.0\" \\\n",
        "  \"langchain-community==0.3.31\" \"langchainhub==0.1.21\"\n",
        "\n",
        "# 2) Prepend that folder to Python's import path\n",
        "import sys\n",
        "sys.path.insert(0, \"/content/libs\")\n",
        "\n",
        "# 3) Verify\n",
        "import requests, packaging\n",
        "print(\"requests:\", requests.__version__)\n",
        "print(\"packaging:\", packaging.__version__)\n",
        "\n"
      ],
      "metadata": {
        "colab": {
          "base_uri": "https://localhost:8080/"
        },
        "id": "NSB1PEoHVT3r",
        "outputId": "abb26808-3c88-49be-b331-aae870a53341"
      },
      "execution_count": 2,
      "outputs": [
        {
          "output_type": "stream",
          "name": "stdout",
          "text": [
            "\u001b[2K     \u001b[90m━━━━━━━━━━━━━━━━━━━━━━━━━━━━━━━━━━━━━━━━\u001b[0m \u001b[32m62.1/62.1 kB\u001b[0m \u001b[31m3.8 MB/s\u001b[0m eta \u001b[36m0:00:00\u001b[0m\n",
            "\u001b[2K     \u001b[90m━━━━━━━━━━━━━━━━━━━━━━━━━━━━━━━━━━━━━━━━\u001b[0m \u001b[32m75.1/75.1 kB\u001b[0m \u001b[31m4.5 MB/s\u001b[0m eta \u001b[36m0:00:00\u001b[0m\n",
            "\u001b[2K     \u001b[90m━━━━━━━━━━━━━━━━━━━━━━━━━━━━━━━━━━━━━━━━\u001b[0m \u001b[32m85.8/85.8 kB\u001b[0m \u001b[31m5.7 MB/s\u001b[0m eta \u001b[36m0:00:00\u001b[0m\n",
            "\u001b[2K     \u001b[90m━━━━━━━━━━━━━━━━━━━━━━━━━━━━━━━━━━━━━━━━\u001b[0m \u001b[32m41.9/41.9 kB\u001b[0m \u001b[31m2.3 MB/s\u001b[0m eta \u001b[36m0:00:00\u001b[0m\n",
            "\u001b[2K   \u001b[90m━━━━━━━━━━━━━━━━━━━━━━━━━━━━━━━━━━━━━━━━\u001b[0m \u001b[32m1.8/1.8 MB\u001b[0m \u001b[31m35.7 MB/s\u001b[0m eta \u001b[36m0:00:00\u001b[0m\n",
            "\u001b[2K   \u001b[90m━━━━━━━━━━━━━━━━━━━━━━━━━━━━━━━━━━━━━━━━\u001b[0m \u001b[32m163.3/163.3 kB\u001b[0m \u001b[31m9.5 MB/s\u001b[0m eta \u001b[36m0:00:00\u001b[0m\n",
            "\u001b[2K   \u001b[90m━━━━━━━━━━━━━━━━━━━━━━━━━━━━━━━━━━━━━━━━\u001b[0m \u001b[32m153.5/153.5 kB\u001b[0m \u001b[31m10.1 MB/s\u001b[0m eta \u001b[36m0:00:00\u001b[0m\n",
            "\u001b[2K   \u001b[90m━━━━━━━━━━━━━━━━━━━━━━━━━━━━━━━━━━━━━━━━\u001b[0m \u001b[32m71.0/71.0 kB\u001b[0m \u001b[31m4.8 MB/s\u001b[0m eta \u001b[36m0:00:00\u001b[0m\n",
            "\u001b[2K   \u001b[90m━━━━━━━━━━━━━━━━━━━━━━━━━━━━━━━━━━━━━━━━\u001b[0m \u001b[32m1.0/1.0 MB\u001b[0m \u001b[31m40.7 MB/s\u001b[0m eta \u001b[36m0:00:00\u001b[0m\n",
            "\u001b[2K   \u001b[90m━━━━━━━━━━━━━━━━━━━━━━━━━━━━━━━━━━━━━━━━\u001b[0m \u001b[32m449.8/449.8 kB\u001b[0m \u001b[31m24.1 MB/s\u001b[0m eta \u001b[36m0:00:00\u001b[0m\n",
            "\u001b[2K   \u001b[90m━━━━━━━━━━━━━━━━━━━━━━━━━━━━━━━━━━━━━━━━\u001b[0m \u001b[32m387.1/387.1 kB\u001b[0m \u001b[31m21.0 MB/s\u001b[0m eta \u001b[36m0:00:00\u001b[0m\n",
            "\u001b[2K   \u001b[90m━━━━━━━━━━━━━━━━━━━━━━━━━━━━━━━━━━━━━━━━\u001b[0m \u001b[32m16.6/16.6 MB\u001b[0m \u001b[31m46.5 MB/s\u001b[0m eta \u001b[36m0:00:00\u001b[0m\n",
            "\u001b[2K   \u001b[90m━━━━━━━━━━━━━━━━━━━━━━━━━━━━━━━━━━━━━━━━\u001b[0m \u001b[32m48.6/48.6 kB\u001b[0m \u001b[31m3.2 MB/s\u001b[0m eta \u001b[36m0:00:00\u001b[0m\n",
            "\u001b[2K   \u001b[90m━━━━━━━━━━━━━━━━━━━━━━━━━━━━━━━━━━━━━━━━\u001b[0m \u001b[32m807.9/807.9 kB\u001b[0m \u001b[31m31.3 MB/s\u001b[0m eta \u001b[36m0:00:00\u001b[0m\n",
            "\u001b[2K   \u001b[90m━━━━━━━━━━━━━━━━━━━━━━━━━━━━━━━━━━━━━━━━\u001b[0m \u001b[32m3.3/3.3 MB\u001b[0m \u001b[31m59.4 MB/s\u001b[0m eta \u001b[36m0:00:00\u001b[0m\n",
            "\u001b[2K   \u001b[90m━━━━━━━━━━━━━━━━━━━━━━━━━━━━━━━━━━━━━━━━\u001b[0m \u001b[32m67.6/67.6 kB\u001b[0m \u001b[31m4.2 MB/s\u001b[0m eta \u001b[36m0:00:00\u001b[0m\n",
            "\u001b[2K   \u001b[90m━━━━━━━━━━━━━━━━━━━━━━━━━━━━━━━━━━━━━━━━\u001b[0m \u001b[32m242.4/242.4 kB\u001b[0m \u001b[31m15.7 MB/s\u001b[0m eta \u001b[36m0:00:00\u001b[0m\n",
            "\u001b[2K   \u001b[90m━━━━━━━━━━━━━━━━━━━━━━━━━━━━━━━━━━━━━━━━\u001b[0m \u001b[32m607.6/607.6 kB\u001b[0m \u001b[31m29.4 MB/s\u001b[0m eta \u001b[36m0:00:00\u001b[0m\n",
            "\u001b[2K   \u001b[90m━━━━━━━━━━━━━━━━━━━━━━━━━━━━━━━━━━━━━━━━\u001b[0m \u001b[32m73.5/73.5 kB\u001b[0m \u001b[31m5.0 MB/s\u001b[0m eta \u001b[36m0:00:00\u001b[0m\n",
            "\u001b[2K   \u001b[90m━━━━━━━━━━━━━━━━━━━━━━━━━━━━━━━━━━━━━━━━\u001b[0m \u001b[32m78.8/78.8 kB\u001b[0m \u001b[31m5.4 MB/s\u001b[0m eta \u001b[36m0:00:00\u001b[0m\n",
            "\u001b[2K   \u001b[90m━━━━━━━━━━━━━━━━━━━━━━━━━━━━━━━━━━━━━━━━\u001b[0m \u001b[32m256.1/256.1 kB\u001b[0m \u001b[31m15.9 MB/s\u001b[0m eta \u001b[36m0:00:00\u001b[0m\n",
            "\u001b[2K   \u001b[90m━━━━━━━━━━━━━━━━━━━━━━━━━━━━━━━━━━━━━━━━\u001b[0m \u001b[32m132.9/132.9 kB\u001b[0m \u001b[31m8.8 MB/s\u001b[0m eta \u001b[36m0:00:00\u001b[0m\n",
            "\u001b[2K   \u001b[90m━━━━━━━━━━━━━━━━━━━━━━━━━━━━━━━━━━━━━━━━\u001b[0m \u001b[32m221.6/221.6 kB\u001b[0m \u001b[31m12.9 MB/s\u001b[0m eta \u001b[36m0:00:00\u001b[0m\n",
            "\u001b[2K   \u001b[90m━━━━━━━━━━━━━━━━━━━━━━━━━━━━━━━━━━━━━━━━\u001b[0m \u001b[32m460.6/460.6 kB\u001b[0m \u001b[31m22.9 MB/s\u001b[0m eta \u001b[36m0:00:00\u001b[0m\n",
            "\u001b[2K   \u001b[90m━━━━━━━━━━━━━━━━━━━━━━━━━━━━━━━━━━━━━━━━\u001b[0m \u001b[32m2.1/2.1 MB\u001b[0m \u001b[31m62.8 MB/s\u001b[0m eta \u001b[36m0:00:00\u001b[0m\n",
            "\u001b[2K   \u001b[90m━━━━━━━━━━━━━━━━━━━━━━━━━━━━━━━━━━━━━━━━\u001b[0m \u001b[32m54.5/54.5 kB\u001b[0m \u001b[31m3.0 MB/s\u001b[0m eta \u001b[36m0:00:00\u001b[0m\n",
            "\u001b[2K   \u001b[90m━━━━━━━━━━━━━━━━━━━━━━━━━━━━━━━━━━━━━━━━\u001b[0m \u001b[32m44.6/44.6 kB\u001b[0m \u001b[31m2.4 MB/s\u001b[0m eta \u001b[36m0:00:00\u001b[0m\n",
            "\u001b[2K   \u001b[90m━━━━━━━━━━━━━━━━━━━━━━━━━━━━━━━━━━━━━━━━\u001b[0m \u001b[32m377.3/377.3 kB\u001b[0m \u001b[31m19.9 MB/s\u001b[0m eta \u001b[36m0:00:00\u001b[0m\n",
            "\u001b[2K   \u001b[90m━━━━━━━━━━━━━━━━━━━━━━━━━━━━━━━━━━━━━━━━\u001b[0m \u001b[32m5.5/5.5 MB\u001b[0m \u001b[31m53.4 MB/s\u001b[0m eta \u001b[36m0:00:00\u001b[0m\n",
            "\u001b[2K   \u001b[90m━━━━━━━━━━━━━━━━━━━━━━━━━━━━━━━━━━━━━━━━\u001b[0m \u001b[32m109.1/109.1 kB\u001b[0m \u001b[31m6.0 MB/s\u001b[0m eta \u001b[36m0:00:00\u001b[0m\n",
            "\u001b[?25h\u001b[31mERROR: pip's dependency resolver does not currently take into account all the packages that are installed. This behaviour is the source of the following dependency conflicts.\n",
            "google-colab 1.0.0 requires requests==2.32.4, but you have requests 2.32.5 which is incompatible.\n",
            "opencv-python-headless 4.12.0.88 requires numpy<2.3.0,>=2; python_version >= \"3.9\", but you have numpy 2.3.3 which is incompatible.\n",
            "gradio 5.49.0 requires pydantic<2.12,>=2.0, but you have pydantic 2.12.2 which is incompatible.\n",
            "google-adk 1.14.1 requires tenacity<9.0.0,>=8.0.0, but you have tenacity 9.1.2 which is incompatible.\n",
            "numba 0.60.0 requires numpy<2.1,>=1.22, but you have numpy 2.3.3 which is incompatible.\n",
            "tensorflow 2.19.0 requires numpy<2.2.0,>=1.26.0, but you have numpy 2.3.3 which is incompatible.\n",
            "cupy-cuda12x 13.3.0 requires numpy<2.3,>=1.22, but you have numpy 2.3.3 which is incompatible.\n",
            "opencv-python 4.12.0.88 requires numpy<2.3.0,>=2; python_version >= \"3.9\", but you have numpy 2.3.3 which is incompatible.\n",
            "opencv-contrib-python 4.12.0.88 requires numpy<2.3.0,>=2; python_version >= \"3.9\", but you have numpy 2.3.3 which is incompatible.\u001b[0m\u001b[31m\n",
            "\u001b[0mrequests: 2.32.4\n",
            "packaging: 24.2\n"
          ]
        }
      ]
    },
    {
      "cell_type": "code",
      "source": [
        "import requests, packaging, subprocess, sys\n",
        "print(\"requests:\", requests.__version__)\n",
        "print(\"packaging:\", packaging.__version__)\n",
        "subprocess.run([sys.executable, \"-m\", \"pip\", \"check\"])\n"
      ],
      "metadata": {
        "colab": {
          "base_uri": "https://localhost:8080/"
        },
        "id": "H4ONtKdsVYCY",
        "outputId": "c009aa8b-2e42-4120-a5fd-7b84e0d8cbd0"
      },
      "execution_count": 1,
      "outputs": [
        {
          "output_type": "stream",
          "name": "stdout",
          "text": [
            "requests: 2.32.4\n",
            "packaging: 24.2\n"
          ]
        },
        {
          "output_type": "execute_result",
          "data": {
            "text/plain": [
              "CompletedProcess(args=['/usr/bin/python3', '-m', 'pip', 'check'], returncode=1)"
            ]
          },
          "metadata": {},
          "execution_count": 1
        }
      ]
    },
    {
      "cell_type": "code",
      "source": [
        "from google.colab import userdata\n",
        "import os\n",
        "os.environ['OPENAI_API_KEY'] = userdata.get('reserch')"
      ],
      "metadata": {
        "id": "Oy6Th5l_yRcb"
      },
      "execution_count": 45,
      "outputs": []
    },
    {
      "cell_type": "code",
      "source": [
        "from langchain_community.document_loaders import WebBaseLoader\n",
        "\n",
        "loader = WebBaseLoader(web_paths=[\"https://www.ece.iastate.edu/~mai/lab/dsl.html\"])\n",
        "\n",
        "docs = loader.load()\n",
        "print(docs)"
      ],
      "metadata": {
        "colab": {
          "base_uri": "https://localhost:8080/"
        },
        "id": "6UzoNGeYy0jL",
        "outputId": "6e731661-749b-4d80-8840-243e4f90b82e"
      },
      "execution_count": 46,
      "outputs": [
        {
          "output_type": "stream",
          "name": "stdout",
          "text": [
            "[Document(metadata={'source': 'https://www.ece.iastate.edu/~mai/lab/dsl.html', 'title': 'Mai Zheng @Iowa State', 'language': 'No language found.'}, page_content=\"\\n\\n\\n\\nMai Zheng @Iowa State\\n \\n\\n\\n\\n\\n\\n\\n\\n\\n\\n\\nMai Zheng\\n               (Mike)\\n\\nAssociate Professor\\nDept.\\n                of Electrical and Computer Engineering\\n\\nData Storage Lab (DSL)\\n\\nCenter for Cybersecurity Innovation\\n                & Outreach (CyIO)\\n\\nCenter for Wireless, Communities and\\n                Innovation (WiCI)\\n\\n \\n Office: 349 Durham Hall\\n              Phone: (515)\\n                294-6285 \\n              Email: mai AT iastate DOT edu \\nwww.ece.iastate.edu/~mai\\n\\n\\n\\n I'm interested in all\\n                  things data storage (e.g., file systems,\\n              non-volatile memories, key-value stores, data-intensive computing,\\n              data-centric infrastructures). I'm leading the Data\\n                  Storage Lab where we play with the latest storage\\n              technologies and strive to advance the integrity, security,\\n              scalability, usability etc for data, for people, or just for fun.\\n            \\n\\n\\n\\n\\n\\n\\nData Storage Lab\\nOur research are\\n              motivated by real problems of mission-critical systems that jeopardize\\n              data, e.g.: \\n\\n\\n\\n\\n \\n\\n\\n\\n\\n                              Crash, \\n                              Corruption, & Bug\\n                          across system layers\\n                          ==> [SSD: TOCS'16/FAST'13 |\\n                       \\n                        FS: FAST'23,\\n                        FAST'18 |\\n                          OS: TOS'23 |\\n                        DB: OSDI'14]\\n                         Data\\n                              Lost & Service\\n                              Disruption\\n                          @HPC/Data\\n                            centers at scale\\n\\n                        ==> [HotStorage'24,\\n                        TOS'22/ICS'18,\\n                          IPDPS'23,\\n                        ATC'19]\\n                        Data\\n                              Provenance, Observability,\\n                          & Scalability\\n                          challenges\\n                        ==> [TPDS'24/HPDC'22,\\n                        ASPLOS'23,\\n                          ARA Platform]\\n                      \\n\\n\\n\\n\\n\\nWe build\\n              systems/tools to attack such problems and open source our \\n                research prototypes/datasets. \\n\\n\\n\\n\\n Current Members \\n\\n\\n\\nFaculty: Mai\\n                        Zheng \\nStudents:\\n                      \\n\\n\\n\\n\\n\\n\\n\\n\\n\\n\\n\\n\\n\\nWei Xu\\nChao Shi\\nRoop Kiran\\nAhmed Dajani\\nVarun Girimaji\\n\\n\\n\\n\\n\\n\\n\\n\\n\\n\\n \\n\\n\\n\\n\\n\\nVidhya Mannathu Parambil \\nJoshua John\\n Aaron Trelstad  \\n Zeren Yang\\n \\n\\n\\n\\n\\n\\n\\n\\n\\n\\n\\n Selected Projects\\n\\n\\n\\nLarge-Scale\\n                    High-Performance Storage Systems \\n\\n\\n\\n \\n\\n\\n\\n Large-scale distributed storage\\n                            systems   are critical infrastructures typically deployed in data centers and high-perfomrance computing (HPC) centers to \\n                            empower data-intensive computations and \\n                            data-driven discoveries (e.g., AI/ML applications). Unfortunately,\\n                             due to the complexity and scale, even state-of-the-art systems may experience correctness\\n                            and/or performance issues. \\n                            We are building frameworks to improve data storage at scale\\n                             for robust and high-performant data-driven discoveries.\\nRelevant Papers:\\n                            [IPDPS'25\\n                            | CN'25\\n                            | HotStorage'24\\n                            | ASPLOS'23\\n                            | IPDPS'23a\\n                            | IPDPS'23b\\n                            | TOS'22\\n                             | HPDC'22\\n                            | HotStorage'21\\n                            (video)\\n                            | PDSW'20\\n                            (slides)\\n                            | \\n                                  USENIX ATC'19 (slides)\\n                            | MSST'19\\n                                  | PDSW'18\\n                                (slides)\\n                            | ICS'18\\n                            (slides)\\n                            \\n                            | PDSW'16\\n                            (slides)]\\n                            \\nOpen Source\\n                                Artifacts: [PFault | ARA Platform]\\n                          \\n\\n                                Main Sponsors: \\n                                [NSF \\n                                | Samsung\\n                                | NIFA \\n                                | US Ignite]\\n                              \\n\\n\\n\\n\\n\\n\\n\\n Single-Machine Storage\\n                       \\n\\n\\n\\n \\n\\n\\n\\nLocal storage systems running on a single machine serve as the\\n                                cornerstone of many large-scale systems and applications. Unfortunately, despite decades of\\n                                evolution and various protections, the classic local storage\\n                                systems may still run into issues in practice\\n                                (e.g., data corruptions, metadata\\n                                inconsistencies). What's worse, the same issues\\n                                that occur to lcoal storage systems may also affect their\\n                                maintenance/recovery utilities and/or\\n                                other applications using them, leading to\\n                                cascading problems. We are investigating the fundamental\\n                                problems and developing mitigation solutions.\\nRelevant Papers:\\n                                [TOCS'25\\n                                  | FAST'23\\n                                | HotStorage'22\\n                                (slides)\\n                                | FAST'22-WiP\\n                                (video)\\n                                | TOS'18\\n                                | FAST'18\\n                                (slides)\\n                                | HotStorage'17\\n                                (slides)\\n                                | FAST'17-WiP]\\n                              \\n\\nOpen Source\\n                                    Artifacts: [ConfD | RFSCK]\\n                              \\n Main Sponsors: \\n                                [NSF \\n                                | Western Digital]\\n                              \\n\\n\\n\\n\\n\\n\\n\\n\\n  Cross-Layer\\n                        Issues on Data Path \\n\\n\\n\\n \\n\\n\\n\\nThe storage  stack contains a deep data I/O path involving complicated layers (e.g., solid-state drives (SSD), persistent memories (PM), device drivers, local and parallel\\n                                file systems, databases, blockchain storage with cloud backends). Besides\\n                                latent issues in individual layers, many\\n                                desired properties may be violated due to  cross-layer dependencies, hurting the\\n                                end-to-end gurantees and data integrity. We take a holistic\\n                                view to investigate such daunting challenges across system layers. \\nRelevant Papers:\\n                                [IPDPS'25\\n                                 | TOS'23\\n                                | FAST'23\\n                                | Dagstuhl'22\\n                                | TOS'22\\n                                | NVMW'23\\n                                | TC'22\\n                                | SYSTOR'21\\n                                (video)\\n                                | FAST'20-WiP\\n                                | \\n                                  ATC'19\\n                                | TOS'18\\n                                | TOCS'16\\n                                | OSDI'14\\n                                (slides)\\n                                | FAST'13\\n                                (slides)\\n                                ]\\nOpen Source\\n                                    Artifacts: [BugBenchk \\n                                | ConfD | PFault]\\n Main Sponsors: \\n                                [NSF \\n                                | Western Digital]\\n                              \\n\\n\\n\\n\\n\\n\\n\\n\\n  Data Provenance &\\n                        Observability  \\n\\n\\n\\n \\n\\n\\n\\n Understanding the origin and quality of data\\n                                (e.g., the root cause of an anomaly, the\\n                                reproducibility of the best result) becomes more\\n                                and more challenging due to the ever-increasing\\n                                data volume and system complexity. Data\\n                                  provenance, or data lineage, describes the\\n                                life cycle of data, which is essential to\\n                                address the challenge. We are building\\n                                frameworks to capture rich metadata and generate\\n                                provenance to ensure the observability,\\n                                reproducibility, explainability, auditability,\\n                                trustworthiness, etc of systems and data.\\nRelevant Papers:\\n                                [TPDS'24\\n                                | HPDC'22\\n                                | NAS'22\\n                                | FAST'22-WiP\\n                                | DOE-ASRC-Data'22\\n                                | TBench'21\\n                                (video)\\n                                | HotStorage'20\\n                                (slides)\\n                                ]\\nOpen Source Artifacts: \\n                                [PROV-IO\\n                                | BugBenchk]\\n                              \\nMain Sponsors: \\n                                [NSF \\n                                | LBNL \\n                                | Samsung]\\n                              \\n\\n\\n\\n\\n\\n\\n\\n Data Infrastructure for\\n                        Rural America \\n\\n\\n\\n \\n\\n\\n\\nARA is a data infrastructure for\\n                                advanced wireless research being deployed across\\n                                the ISU campus, City of Ames, and surrounding\\n                                research and producer farms as well as rural\\n                                communities in central Iowa, spanning a rural\\n                                area with diameter over 60km. It serves as a\\n                                wireless living lab for smart and connected\\n                                rural communities and rich experimental data,\\n                                enabling the research and development of\\n                                rural-focused wireless technologies that provide\\n                                affordable, high-capacity connectivity to rural\\n                                communities and industries such as agriculture.\\n                              \\nRelevant Papers:\\n                                [ CN'25\\n                                | MobiCom'23\\n                                | WiNTECH'22\\n                                | \\n                                  WiNTECH'21] \\n\\n                                Open Source\\n                                Artifacts: [ARA Platform]\\n                              \\n\\n                                Main Sponsors: \\n                                [NSF \\n                                | NIFA \\n                                | US Ignite\\n                                | PAWR Industry Consortium]\\n                              \\n\\n\\n\\n\\n\\n\\n\\n\\n\\n\\n Selected Outreach Activities \\n\\n\\n\\n\\n\\n\\n\\n \\n\\n\\n\\n \\n\\n\\n\\n\\n\\n\\n\\n\\n\\n\\n\\n\\n\\n\\n \\n\\n\\n\\n \\n\\n\\n\\n\\n\\n\\n\\n\\n\\n\\n Full\\n                    Publication List  \\n\\n Alumni\\n \\n\\n Acknowledgements\\n                       \\n\\n\\n\\n\\n\\n\\n\\n \\n\\n \\n\\n\\n Homepage\\n\\n                  CV \\n Data\\n                  Storage Lab\\n\\n                  Publications\\n\\n                  Students\\n\\n                  Teaching\\n\\n                  Service \\n\\n                  Ack. \\n\\n\\n\\n  \\n \\n\\n \\n\\n\\n\")]\n"
          ]
        }
      ]
    },
    {
      "cell_type": "code",
      "source": [
        "from langchain.text_splitter import RecursiveCharacterTextSplitter\n",
        "\n",
        "text_splitter = RecursiveCharacterTextSplitter(chunk_size = 1000, chunk_overlap = 200)\n",
        "splits = text_splitter.split_documents(docs)"
      ],
      "metadata": {
        "id": "hh4mArWg0_cK"
      },
      "execution_count": 47,
      "outputs": []
    },
    {
      "cell_type": "code",
      "source": [
        "print(splits[0])\n",
        "print(splits[1])\n",
        "print(splits[2])"
      ],
      "metadata": {
        "colab": {
          "base_uri": "https://localhost:8080/"
        },
        "id": "7SM7XPdZ6Zfk",
        "outputId": "a85a5fa2-6a04-4829-acf4-c050d0877a6c"
      },
      "execution_count": 48,
      "outputs": [
        {
          "output_type": "stream",
          "name": "stdout",
          "text": [
            "page_content='Mai Zheng @Iowa State\n",
            " \n",
            "\n",
            "\n",
            "\n",
            "\n",
            "\n",
            "\n",
            "\n",
            "\n",
            "\n",
            "\n",
            "Mai Zheng\n",
            "               (Mike)\n",
            "\n",
            "Associate Professor\n",
            "Dept.\n",
            "                of Electrical and Computer Engineering\n",
            "\n",
            "Data Storage Lab (DSL)\n",
            "\n",
            "Center for Cybersecurity Innovation\n",
            "                & Outreach (CyIO)\n",
            "\n",
            "Center for Wireless, Communities and\n",
            "                Innovation (WiCI)\n",
            "\n",
            " \n",
            " Office: 349 Durham Hall\n",
            "              Phone: (515)\n",
            "                294-6285 \n",
            "              Email: mai AT iastate DOT edu \n",
            "www.ece.iastate.edu/~mai\n",
            "\n",
            "\n",
            "\n",
            " I'm interested in all\n",
            "                  things data storage (e.g., file systems,\n",
            "              non-volatile memories, key-value stores, data-intensive computing,\n",
            "              data-centric infrastructures). I'm leading the Data\n",
            "                  Storage Lab where we play with the latest storage\n",
            "              technologies and strive to advance the integrity, security,\n",
            "              scalability, usability etc for data, for people, or just for fun.' metadata={'source': 'https://www.ece.iastate.edu/~mai/lab/dsl.html', 'title': 'Mai Zheng @Iowa State', 'language': 'No language found.'}\n",
            "page_content='Data Storage Lab\n",
            "Our research are\n",
            "              motivated by real problems of mission-critical systems that jeopardize\n",
            "              data, e.g.: \n",
            "\n",
            "\n",
            "\n",
            "\n",
            " \n",
            "\n",
            "\n",
            "\n",
            "\n",
            "                              Crash, \n",
            "                              Corruption, & Bug\n",
            "                          across system layers\n",
            "                          ==> [SSD: TOCS'16/FAST'13 |\n",
            "                       \n",
            "                        FS: FAST'23,\n",
            "                        FAST'18 |\n",
            "                          OS: TOS'23 |\n",
            "                        DB: OSDI'14]\n",
            "                         Data\n",
            "                              Lost & Service\n",
            "                              Disruption\n",
            "                          @HPC/Data\n",
            "                            centers at scale' metadata={'source': 'https://www.ece.iastate.edu/~mai/lab/dsl.html', 'title': 'Mai Zheng @Iowa State', 'language': 'No language found.'}\n",
            "page_content='==> [HotStorage'24,\n",
            "                        TOS'22/ICS'18,\n",
            "                          IPDPS'23,\n",
            "                        ATC'19]\n",
            "                        Data\n",
            "                              Provenance, Observability,\n",
            "                          & Scalability\n",
            "                          challenges\n",
            "                        ==> [TPDS'24/HPDC'22,\n",
            "                        ASPLOS'23,\n",
            "                          ARA Platform]\n",
            "                      \n",
            "\n",
            "\n",
            "\n",
            "\n",
            "\n",
            "We build\n",
            "              systems/tools to attack such problems and open source our \n",
            "                research prototypes/datasets. \n",
            "\n",
            "\n",
            "\n",
            "\n",
            " Current Members \n",
            "\n",
            "\n",
            "\n",
            "Faculty: Mai\n",
            "                        Zheng \n",
            "Students:\n",
            "                      \n",
            "\n",
            "\n",
            "\n",
            "\n",
            "\n",
            "\n",
            "\n",
            "\n",
            "\n",
            "\n",
            "\n",
            "\n",
            "\n",
            "Wei Xu\n",
            "Chao Shi\n",
            "Roop Kiran\n",
            "Ahmed Dajani\n",
            "Varun Girimaji\n",
            "\n",
            "\n",
            "\n",
            "\n",
            "\n",
            "\n",
            "\n",
            "\n",
            "\n",
            "\n",
            " \n",
            "\n",
            "\n",
            "\n",
            "\n",
            "\n",
            "Vidhya Mannathu Parambil \n",
            "Joshua John\n",
            " Aaron Trelstad  \n",
            " Zeren Yang\n",
            " \n",
            "\n",
            "\n",
            "\n",
            "\n",
            "\n",
            "\n",
            "\n",
            "\n",
            "\n",
            "\n",
            " Selected Projects\n",
            "\n",
            "\n",
            "\n",
            "Large-Scale\n",
            "                    High-Performance Storage Systems' metadata={'source': 'https://www.ece.iastate.edu/~mai/lab/dsl.html', 'title': 'Mai Zheng @Iowa State', 'language': 'No language found.'}\n"
          ]
        }
      ]
    },
    {
      "cell_type": "code",
      "source": [
        "print(len(splits))"
      ],
      "metadata": {
        "colab": {
          "base_uri": "https://localhost:8080/"
        },
        "id": "XESRbGp87BWX",
        "outputId": "37069495-99f2-452d-8032-a89fb1808a17"
      },
      "execution_count": 49,
      "outputs": [
        {
          "output_type": "stream",
          "name": "stdout",
          "text": [
            "18\n"
          ]
        }
      ]
    },
    {
      "cell_type": "code",
      "source": [
        "from langchain.embeddings.openai import OpenAIEmbeddings\n",
        "from langchain.vectorstores import Chroma\n",
        "\n",
        "vectorstore = Chroma.from_documents(documents=splits, embedding=OpenAIEmbeddings())"
      ],
      "metadata": {
        "id": "5taW_LOJ73OQ"
      },
      "execution_count": 50,
      "outputs": []
    },
    {
      "cell_type": "code",
      "source": [
        "print(vectorstore._collection.count())"
      ],
      "metadata": {
        "colab": {
          "base_uri": "https://localhost:8080/"
        },
        "id": "Mdu6rOsK8sXX",
        "outputId": "3aad041c-cc7f-4ee5-bc9b-af02db716e83"
      },
      "execution_count": 51,
      "outputs": [
        {
          "output_type": "stream",
          "name": "stdout",
          "text": [
            "36\n"
          ]
        }
      ]
    },
    {
      "cell_type": "code",
      "source": [
        "print(vectorstore._collection.get())"
      ],
      "metadata": {
        "colab": {
          "base_uri": "https://localhost:8080/"
        },
        "id": "u-CE8VHQ8w3o",
        "outputId": "f3c7d5f5-568e-4e8a-ae39-d708806be46a"
      },
      "execution_count": 52,
      "outputs": [
        {
          "output_type": "stream",
          "name": "stdout",
          "text": [
            "{'ids': ['27279d12-2dde-4a09-990b-0ac0a6d2f316', '4dced845-8e89-49f2-a98b-1bd7ff36ac12', 'a15f9148-719e-40f7-a007-b8421702bc40', '8dfc14a3-0b97-4bc3-a723-41ac55701bd6', 'c0384b1d-59fd-401b-afcf-8836d2e086c9', 'fd398ba0-b76b-4ee2-9c68-acec65dfb180', '42a644ce-49d8-4ba8-85ed-dbb3f2d37955', '238f6331-e8ff-4241-a4b6-fd629fc4a2ad', '4ce07e4d-3b6c-400a-a35b-ba914222fa65', 'f230f3dc-e0f4-4edc-bbf8-c21a9611e2ac', '785081c0-e9b1-4968-a025-e902430f08dc', '20e9adcc-8d60-40ab-8159-d6bc8ef8e3bf', 'a29b959a-c498-445a-ae70-ddd746f16219', 'e87a6314-1906-4ab8-9f0e-27eb5ed5fae3', '90f4105e-1ab6-4a5e-a9ad-b4c4363fef4e', '12bcb0d8-63fa-4818-bd61-bc7eb03b4146', '88caa2ee-6b71-479c-9b0d-31f90688bd22', '50a5b21b-5e49-4da0-b345-ee2855a795a8', 'cff3d9cf-bc18-43cd-b713-375e127b74d4', '563f3af2-274a-4715-a0ba-b745c3d63901', '0c0a13bf-44ff-40cb-973f-4c371414f814', '4f87df50-3f3e-45fd-8890-42a0c8cd9097', 'c45e4aa9-425f-4bb7-bd05-601db037bd1f', '2d4cf9ed-04a6-4704-a2fa-a9874cbfda99', '3387a856-a541-4e87-9c91-c7ccd0b0fea3', '91652644-c10a-45ea-9602-32cdd42706f7', '3a56e556-fd1a-4b22-9431-0bb0dd6fd144', '9b330f4a-f3b5-4896-b227-c83601902070', '5eed82cf-e7a0-4eea-8e56-37e42d94d292', 'cad16b59-ef1b-41e6-9ffb-0db2f72856a5', '47b981cb-fe76-4e34-9f15-e7278af0b187', '4b092d94-84ed-4e8c-94b1-d79f91c40d3c', '002d969b-35f1-4ded-aae8-59a177c5cdf6', 'abd93af5-c26d-43f6-ae43-edb6b97f0ea7', '2e3ea4ef-6117-4de1-a3cf-86e6fd843ba3', 'f9a34c43-73f5-4403-8656-468a5cb71d8b'], 'embeddings': None, 'documents': [\"Mai Zheng @Iowa State\\n \\n\\n\\n\\n\\n\\n\\n\\n\\n\\n\\nMai Zheng\\n               (Mike)\\n\\nAssociate Professor\\nDept.\\n                of Electrical and Computer Engineering\\n\\nData Storage Lab (DSL)\\n\\nCenter for Cybersecurity Innovation\\n                & Outreach (CyIO)\\n\\nCenter for Wireless, Communities and\\n                Innovation (WiCI)\\n\\n \\n Office: 349 Durham Hall\\n              Phone: (515)\\n                294-6285 \\n              Email: mai AT iastate DOT edu \\nwww.ece.iastate.edu/~mai\\n\\n\\n\\n I'm interested in all\\n                  things data storage (e.g., file systems,\\n              non-volatile memories, key-value stores, data-intensive computing,\\n              data-centric infrastructures). I'm leading the Data\\n                  Storage Lab where we play with the latest storage\\n              technologies and strive to advance the integrity, security,\\n              scalability, usability etc for data, for people, or just for fun.\", \"Data Storage Lab\\nOur research are\\n              motivated by real problems of mission-critical systems that jeopardize\\n              data, e.g.: \\n\\n\\n\\n\\n \\n\\n\\n\\n\\n                              Crash, \\n                              Corruption, & Bug\\n                          across system layers\\n                          ==> [SSD: TOCS'16/FAST'13 |\\n                       \\n                        FS: FAST'23,\\n                        FAST'18 |\\n                          OS: TOS'23 |\\n                        DB: OSDI'14]\\n                         Data\\n                              Lost & Service\\n                              Disruption\\n                          @HPC/Data\\n                            centers at scale\", \"==> [HotStorage'24,\\n                        TOS'22/ICS'18,\\n                          IPDPS'23,\\n                        ATC'19]\\n                        Data\\n                              Provenance, Observability,\\n                          & Scalability\\n                          challenges\\n                        ==> [TPDS'24/HPDC'22,\\n                        ASPLOS'23,\\n                          ARA Platform]\\n                      \\n\\n\\n\\n\\n\\nWe build\\n              systems/tools to attack such problems and open source our \\n                research prototypes/datasets. \\n\\n\\n\\n\\n Current Members \\n\\n\\n\\nFaculty: Mai\\n                        Zheng \\nStudents:\\n                      \\n\\n\\n\\n\\n\\n\\n\\n\\n\\n\\n\\n\\n\\nWei Xu\\nChao Shi\\nRoop Kiran\\nAhmed Dajani\\nVarun Girimaji\\n\\n\\n\\n\\n\\n\\n\\n\\n\\n\\n \\n\\n\\n\\n\\n\\nVidhya Mannathu Parambil \\nJoshua John\\n Aaron Trelstad  \\n Zeren Yang\\n \\n\\n\\n\\n\\n\\n\\n\\n\\n\\n\\n Selected Projects\\n\\n\\n\\nLarge-Scale\\n                    High-Performance Storage Systems\", \"Large-scale distributed storage\\n                            systems   are critical infrastructures typically deployed in data centers and high-perfomrance computing (HPC) centers to \\n                            empower data-intensive computations and \\n                            data-driven discoveries (e.g., AI/ML applications). Unfortunately,\\n                             due to the complexity and scale, even state-of-the-art systems may experience correctness\\n                            and/or performance issues. \\n                            We are building frameworks to improve data storage at scale\\n                             for robust and high-performant data-driven discoveries.\\nRelevant Papers:\\n                            [IPDPS'25\\n                            | CN'25\\n                            | HotStorage'24\\n                            | ASPLOS'23\\n                            | IPDPS'23a\\n                            | IPDPS'23b\\n                            | TOS'22\", \"| ASPLOS'23\\n                            | IPDPS'23a\\n                            | IPDPS'23b\\n                            | TOS'22\\n                             | HPDC'22\\n                            | HotStorage'21\\n                            (video)\\n                            | PDSW'20\\n                            (slides)\\n                            | \\n                                  USENIX ATC'19 (slides)\\n                            | MSST'19\\n                                  | PDSW'18\\n                                (slides)\\n                            | ICS'18\\n                            (slides)\\n                            \\n                            | PDSW'16\\n                            (slides)]\\n                            \\nOpen Source\\n                                Artifacts: [PFault | ARA Platform]\", 'Main Sponsors: \\n                                [NSF \\n                                | Samsung\\n                                | NIFA \\n                                | US Ignite]\\n                              \\n\\n\\n\\n\\n\\n\\n\\n Single-Machine Storage', \"Local storage systems running on a single machine serve as the\\n                                cornerstone of many large-scale systems and applications. Unfortunately, despite decades of\\n                                evolution and various protections, the classic local storage\\n                                systems may still run into issues in practice\\n                                (e.g., data corruptions, metadata\\n                                inconsistencies). What's worse, the same issues\\n                                that occur to lcoal storage systems may also affect their\\n                                maintenance/recovery utilities and/or\\n                                other applications using them, leading to\\n                                cascading problems. We are investigating the fundamental\\n                                problems and developing mitigation solutions.\\nRelevant Papers:\\n                                [TOCS'25\", \"problems and developing mitigation solutions.\\nRelevant Papers:\\n                                [TOCS'25\\n                                  | FAST'23\\n                                | HotStorage'22\\n                                (slides)\\n                                | FAST'22-WiP\\n                                (video)\\n                                | TOS'18\\n                                | FAST'18\\n                                (slides)\\n                                | HotStorage'17\\n                                (slides)\\n                                | FAST'17-WiP]\", 'Open Source\\n                                    Artifacts: [ConfD | RFSCK]\\n                              \\n Main Sponsors: \\n                                [NSF \\n                                | Western Digital]\\n                              \\n\\n\\n\\n\\n\\n\\n\\n\\n  Cross-Layer\\n                        Issues on Data Path', \"The storage  stack contains a deep data I/O path involving complicated layers (e.g., solid-state drives (SSD), persistent memories (PM), device drivers, local and parallel\\n                                file systems, databases, blockchain storage with cloud backends). Besides\\n                                latent issues in individual layers, many\\n                                desired properties may be violated due to  cross-layer dependencies, hurting the\\n                                end-to-end gurantees and data integrity. We take a holistic\\n                                view to investigate such daunting challenges across system layers. \\nRelevant Papers:\\n                                [IPDPS'25\\n                                 | TOS'23\\n                                | FAST'23\\n                                | Dagstuhl'22\\n                                | TOS'22\\n                                | NVMW'23\\n                                | TC'22\", \"| Dagstuhl'22\\n                                | TOS'22\\n                                | NVMW'23\\n                                | TC'22\\n                                | SYSTOR'21\\n                                (video)\\n                                | FAST'20-WiP\\n                                | \\n                                  ATC'19\\n                                | TOS'18\\n                                | TOCS'16\\n                                | OSDI'14\\n                                (slides)\\n                                | FAST'13\\n                                (slides)\\n                                ]\\nOpen Source\\n                                    Artifacts: [BugBenchk \\n                                | ConfD | PFault]\\n Main Sponsors: \\n                                [NSF \\n                                | Western Digital]\", 'Data Provenance &\\n                        Observability', \"Understanding the origin and quality of data\\n                                (e.g., the root cause of an anomaly, the\\n                                reproducibility of the best result) becomes more\\n                                and more challenging due to the ever-increasing\\n                                data volume and system complexity. Data\\n                                  provenance, or data lineage, describes the\\n                                life cycle of data, which is essential to\\n                                address the challenge. We are building\\n                                frameworks to capture rich metadata and generate\\n                                provenance to ensure the observability,\\n                                reproducibility, explainability, auditability,\\n                                trustworthiness, etc of systems and data.\\nRelevant Papers:\\n                                [TPDS'24\\n                                | HPDC'22\", \"trustworthiness, etc of systems and data.\\nRelevant Papers:\\n                                [TPDS'24\\n                                | HPDC'22\\n                                | NAS'22\\n                                | FAST'22-WiP\\n                                | DOE-ASRC-Data'22\\n                                | TBench'21\\n                                (video)\\n                                | HotStorage'20\\n                                (slides)\\n                                ]\\nOpen Source Artifacts: \\n                                [PROV-IO\\n                                | BugBenchk]\\n                              \\nMain Sponsors: \\n                                [NSF \\n                                | LBNL \\n                                | Samsung]\", 'Data Infrastructure for\\n                        Rural America', \"ARA is a data infrastructure for\\n                                advanced wireless research being deployed across\\n                                the ISU campus, City of Ames, and surrounding\\n                                research and producer farms as well as rural\\n                                communities in central Iowa, spanning a rural\\n                                area with diameter over 60km. It serves as a\\n                                wireless living lab for smart and connected\\n                                rural communities and rich experimental data,\\n                                enabling the research and development of\\n                                rural-focused wireless technologies that provide\\n                                affordable, high-capacity connectivity to rural\\n                                communities and industries such as agriculture.\\n                              \\nRelevant Papers:\\n                                [ CN'25\", \"communities and industries such as agriculture.\\n                              \\nRelevant Papers:\\n                                [ CN'25\\n                                | MobiCom'23\\n                                | WiNTECH'22\\n                                | \\n                                  WiNTECH'21]\", 'Open Source\\n                                Artifacts: [ARA Platform]\\n                              \\n\\n                                Main Sponsors: \\n                                [NSF \\n                                | NIFA \\n                                | US Ignite\\n                                | PAWR Industry Consortium]\\n                              \\n\\n\\n\\n\\n\\n\\n\\n\\n\\n\\n Selected Outreach Activities \\n\\n\\n\\n\\n\\n\\n\\n \\n\\n\\n\\n \\n\\n\\n\\n\\n\\n\\n\\n\\n\\n\\n\\n\\n\\n\\n \\n\\n\\n\\n \\n\\n\\n\\n\\n\\n\\n\\n\\n\\n\\n Full\\n                    Publication List  \\n\\n Alumni\\n \\n\\n Acknowledgements\\n                       \\n\\n\\n\\n\\n\\n\\n\\n \\n\\n \\n\\n\\n Homepage\\n\\n                  CV \\n Data\\n                  Storage Lab\\n\\n                  Publications\\n\\n                  Students\\n\\n                  Teaching\\n\\n                  Service \\n\\n                  Ack.', \"Mai Zheng @Iowa State\\n \\n\\n\\n\\n\\n\\n\\n\\n\\n\\n\\nMai Zheng\\n               (Mike)\\n\\nAssociate Professor\\nDept.\\n                of Electrical and Computer Engineering\\n\\nData Storage Lab (DSL)\\n\\nCenter for Cybersecurity Innovation\\n                & Outreach (CyIO)\\n\\nCenter for Wireless, Communities and\\n                Innovation (WiCI)\\n\\n \\n Office: 349 Durham Hall\\n              Phone: (515)\\n                294-6285 \\n              Email: mai AT iastate DOT edu \\nwww.ece.iastate.edu/~mai\\n\\n\\n\\n I'm interested in all\\n                  things data storage (e.g., file systems,\\n              non-volatile memories, key-value stores, data-intensive computing,\\n              data-centric infrastructures). I'm leading the Data\\n                  Storage Lab where we play with the latest storage\\n              technologies and strive to advance the integrity, security,\\n              scalability, usability etc for data, for people, or just for fun.\", \"Data Storage Lab\\nOur research are\\n              motivated by real problems of mission-critical systems that jeopardize\\n              data, e.g.: \\n\\n\\n\\n\\n \\n\\n\\n\\n\\n                              Crash, \\n                              Corruption, & Bug\\n                          across system layers\\n                          ==> [SSD: TOCS'16/FAST'13 |\\n                       \\n                        FS: FAST'23,\\n                        FAST'18 |\\n                          OS: TOS'23 |\\n                        DB: OSDI'14]\\n                         Data\\n                              Lost & Service\\n                              Disruption\\n                          @HPC/Data\\n                            centers at scale\", \"==> [HotStorage'24,\\n                        TOS'22/ICS'18,\\n                          IPDPS'23,\\n                        ATC'19]\\n                        Data\\n                              Provenance, Observability,\\n                          & Scalability\\n                          challenges\\n                        ==> [TPDS'24/HPDC'22,\\n                        ASPLOS'23,\\n                          ARA Platform]\\n                      \\n\\n\\n\\n\\n\\nWe build\\n              systems/tools to attack such problems and open source our \\n                research prototypes/datasets. \\n\\n\\n\\n\\n Current Members \\n\\n\\n\\nFaculty: Mai\\n                        Zheng \\nStudents:\\n                      \\n\\n\\n\\n\\n\\n\\n\\n\\n\\n\\n\\n\\n\\nWei Xu\\nChao Shi\\nRoop Kiran\\nAhmed Dajani\\nVarun Girimaji\\n\\n\\n\\n\\n\\n\\n\\n\\n\\n\\n \\n\\n\\n\\n\\n\\nVidhya Mannathu Parambil \\nJoshua John\\n Aaron Trelstad  \\n Zeren Yang\\n \\n\\n\\n\\n\\n\\n\\n\\n\\n\\n\\n Selected Projects\\n\\n\\n\\nLarge-Scale\\n                    High-Performance Storage Systems\", \"Large-scale distributed storage\\n                            systems   are critical infrastructures typically deployed in data centers and high-perfomrance computing (HPC) centers to \\n                            empower data-intensive computations and \\n                            data-driven discoveries (e.g., AI/ML applications). Unfortunately,\\n                             due to the complexity and scale, even state-of-the-art systems may experience correctness\\n                            and/or performance issues. \\n                            We are building frameworks to improve data storage at scale\\n                             for robust and high-performant data-driven discoveries.\\nRelevant Papers:\\n                            [IPDPS'25\\n                            | CN'25\\n                            | HotStorage'24\\n                            | ASPLOS'23\\n                            | IPDPS'23a\\n                            | IPDPS'23b\\n                            | TOS'22\", \"| ASPLOS'23\\n                            | IPDPS'23a\\n                            | IPDPS'23b\\n                            | TOS'22\\n                             | HPDC'22\\n                            | HotStorage'21\\n                            (video)\\n                            | PDSW'20\\n                            (slides)\\n                            | \\n                                  USENIX ATC'19 (slides)\\n                            | MSST'19\\n                                  | PDSW'18\\n                                (slides)\\n                            | ICS'18\\n                            (slides)\\n                            \\n                            | PDSW'16\\n                            (slides)]\\n                            \\nOpen Source\\n                                Artifacts: [PFault | ARA Platform]\", 'Main Sponsors: \\n                                [NSF \\n                                | Samsung\\n                                | NIFA \\n                                | US Ignite]\\n                              \\n\\n\\n\\n\\n\\n\\n\\n Single-Machine Storage', \"Local storage systems running on a single machine serve as the\\n                                cornerstone of many large-scale systems and applications. Unfortunately, despite decades of\\n                                evolution and various protections, the classic local storage\\n                                systems may still run into issues in practice\\n                                (e.g., data corruptions, metadata\\n                                inconsistencies). What's worse, the same issues\\n                                that occur to lcoal storage systems may also affect their\\n                                maintenance/recovery utilities and/or\\n                                other applications using them, leading to\\n                                cascading problems. We are investigating the fundamental\\n                                problems and developing mitigation solutions.\\nRelevant Papers:\\n                                [TOCS'25\", \"problems and developing mitigation solutions.\\nRelevant Papers:\\n                                [TOCS'25\\n                                  | FAST'23\\n                                | HotStorage'22\\n                                (slides)\\n                                | FAST'22-WiP\\n                                (video)\\n                                | TOS'18\\n                                | FAST'18\\n                                (slides)\\n                                | HotStorage'17\\n                                (slides)\\n                                | FAST'17-WiP]\", 'Open Source\\n                                    Artifacts: [ConfD | RFSCK]\\n                              \\n Main Sponsors: \\n                                [NSF \\n                                | Western Digital]\\n                              \\n\\n\\n\\n\\n\\n\\n\\n\\n  Cross-Layer\\n                        Issues on Data Path', \"The storage  stack contains a deep data I/O path involving complicated layers (e.g., solid-state drives (SSD), persistent memories (PM), device drivers, local and parallel\\n                                file systems, databases, blockchain storage with cloud backends). Besides\\n                                latent issues in individual layers, many\\n                                desired properties may be violated due to  cross-layer dependencies, hurting the\\n                                end-to-end gurantees and data integrity. We take a holistic\\n                                view to investigate such daunting challenges across system layers. \\nRelevant Papers:\\n                                [IPDPS'25\\n                                 | TOS'23\\n                                | FAST'23\\n                                | Dagstuhl'22\\n                                | TOS'22\\n                                | NVMW'23\\n                                | TC'22\", \"| Dagstuhl'22\\n                                | TOS'22\\n                                | NVMW'23\\n                                | TC'22\\n                                | SYSTOR'21\\n                                (video)\\n                                | FAST'20-WiP\\n                                | \\n                                  ATC'19\\n                                | TOS'18\\n                                | TOCS'16\\n                                | OSDI'14\\n                                (slides)\\n                                | FAST'13\\n                                (slides)\\n                                ]\\nOpen Source\\n                                    Artifacts: [BugBenchk \\n                                | ConfD | PFault]\\n Main Sponsors: \\n                                [NSF \\n                                | Western Digital]\", 'Data Provenance &\\n                        Observability', \"Understanding the origin and quality of data\\n                                (e.g., the root cause of an anomaly, the\\n                                reproducibility of the best result) becomes more\\n                                and more challenging due to the ever-increasing\\n                                data volume and system complexity. Data\\n                                  provenance, or data lineage, describes the\\n                                life cycle of data, which is essential to\\n                                address the challenge. We are building\\n                                frameworks to capture rich metadata and generate\\n                                provenance to ensure the observability,\\n                                reproducibility, explainability, auditability,\\n                                trustworthiness, etc of systems and data.\\nRelevant Papers:\\n                                [TPDS'24\\n                                | HPDC'22\", \"trustworthiness, etc of systems and data.\\nRelevant Papers:\\n                                [TPDS'24\\n                                | HPDC'22\\n                                | NAS'22\\n                                | FAST'22-WiP\\n                                | DOE-ASRC-Data'22\\n                                | TBench'21\\n                                (video)\\n                                | HotStorage'20\\n                                (slides)\\n                                ]\\nOpen Source Artifacts: \\n                                [PROV-IO\\n                                | BugBenchk]\\n                              \\nMain Sponsors: \\n                                [NSF \\n                                | LBNL \\n                                | Samsung]\", 'Data Infrastructure for\\n                        Rural America', \"ARA is a data infrastructure for\\n                                advanced wireless research being deployed across\\n                                the ISU campus, City of Ames, and surrounding\\n                                research and producer farms as well as rural\\n                                communities in central Iowa, spanning a rural\\n                                area with diameter over 60km. It serves as a\\n                                wireless living lab for smart and connected\\n                                rural communities and rich experimental data,\\n                                enabling the research and development of\\n                                rural-focused wireless technologies that provide\\n                                affordable, high-capacity connectivity to rural\\n                                communities and industries such as agriculture.\\n                              \\nRelevant Papers:\\n                                [ CN'25\", \"communities and industries such as agriculture.\\n                              \\nRelevant Papers:\\n                                [ CN'25\\n                                | MobiCom'23\\n                                | WiNTECH'22\\n                                | \\n                                  WiNTECH'21]\", 'Open Source\\n                                Artifacts: [ARA Platform]\\n                              \\n\\n                                Main Sponsors: \\n                                [NSF \\n                                | NIFA \\n                                | US Ignite\\n                                | PAWR Industry Consortium]\\n                              \\n\\n\\n\\n\\n\\n\\n\\n\\n\\n\\n Selected Outreach Activities \\n\\n\\n\\n\\n\\n\\n\\n \\n\\n\\n\\n \\n\\n\\n\\n\\n\\n\\n\\n\\n\\n\\n\\n\\n\\n\\n \\n\\n\\n\\n \\n\\n\\n\\n\\n\\n\\n\\n\\n\\n\\n Full\\n                    Publication List  \\n\\n Alumni\\n \\n\\n Acknowledgements\\n                       \\n\\n\\n\\n\\n\\n\\n\\n \\n\\n \\n\\n\\n Homepage\\n\\n                  CV \\n Data\\n                  Storage Lab\\n\\n                  Publications\\n\\n                  Students\\n\\n                  Teaching\\n\\n                  Service \\n\\n                  Ack.'], 'uris': None, 'included': ['metadatas', 'documents'], 'data': None, 'metadatas': [{'language': 'No language found.', 'source': 'https://www.ece.iastate.edu/~mai/lab/dsl.html', 'title': 'Mai Zheng @Iowa State'}, {'title': 'Mai Zheng @Iowa State', 'language': 'No language found.', 'source': 'https://www.ece.iastate.edu/~mai/lab/dsl.html'}, {'title': 'Mai Zheng @Iowa State', 'language': 'No language found.', 'source': 'https://www.ece.iastate.edu/~mai/lab/dsl.html'}, {'language': 'No language found.', 'source': 'https://www.ece.iastate.edu/~mai/lab/dsl.html', 'title': 'Mai Zheng @Iowa State'}, {'language': 'No language found.', 'title': 'Mai Zheng @Iowa State', 'source': 'https://www.ece.iastate.edu/~mai/lab/dsl.html'}, {'title': 'Mai Zheng @Iowa State', 'language': 'No language found.', 'source': 'https://www.ece.iastate.edu/~mai/lab/dsl.html'}, {'source': 'https://www.ece.iastate.edu/~mai/lab/dsl.html', 'title': 'Mai Zheng @Iowa State', 'language': 'No language found.'}, {'language': 'No language found.', 'title': 'Mai Zheng @Iowa State', 'source': 'https://www.ece.iastate.edu/~mai/lab/dsl.html'}, {'language': 'No language found.', 'source': 'https://www.ece.iastate.edu/~mai/lab/dsl.html', 'title': 'Mai Zheng @Iowa State'}, {'source': 'https://www.ece.iastate.edu/~mai/lab/dsl.html', 'title': 'Mai Zheng @Iowa State', 'language': 'No language found.'}, {'source': 'https://www.ece.iastate.edu/~mai/lab/dsl.html', 'language': 'No language found.', 'title': 'Mai Zheng @Iowa State'}, {'source': 'https://www.ece.iastate.edu/~mai/lab/dsl.html', 'title': 'Mai Zheng @Iowa State', 'language': 'No language found.'}, {'language': 'No language found.', 'source': 'https://www.ece.iastate.edu/~mai/lab/dsl.html', 'title': 'Mai Zheng @Iowa State'}, {'source': 'https://www.ece.iastate.edu/~mai/lab/dsl.html', 'title': 'Mai Zheng @Iowa State', 'language': 'No language found.'}, {'source': 'https://www.ece.iastate.edu/~mai/lab/dsl.html', 'title': 'Mai Zheng @Iowa State', 'language': 'No language found.'}, {'title': 'Mai Zheng @Iowa State', 'source': 'https://www.ece.iastate.edu/~mai/lab/dsl.html', 'language': 'No language found.'}, {'language': 'No language found.', 'source': 'https://www.ece.iastate.edu/~mai/lab/dsl.html', 'title': 'Mai Zheng @Iowa State'}, {'language': 'No language found.', 'title': 'Mai Zheng @Iowa State', 'source': 'https://www.ece.iastate.edu/~mai/lab/dsl.html'}, {'title': 'Mai Zheng @Iowa State', 'source': 'https://www.ece.iastate.edu/~mai/lab/dsl.html', 'language': 'No language found.'}, {'language': 'No language found.', 'title': 'Mai Zheng @Iowa State', 'source': 'https://www.ece.iastate.edu/~mai/lab/dsl.html'}, {'source': 'https://www.ece.iastate.edu/~mai/lab/dsl.html', 'language': 'No language found.', 'title': 'Mai Zheng @Iowa State'}, {'source': 'https://www.ece.iastate.edu/~mai/lab/dsl.html', 'title': 'Mai Zheng @Iowa State', 'language': 'No language found.'}, {'source': 'https://www.ece.iastate.edu/~mai/lab/dsl.html', 'language': 'No language found.', 'title': 'Mai Zheng @Iowa State'}, {'source': 'https://www.ece.iastate.edu/~mai/lab/dsl.html', 'title': 'Mai Zheng @Iowa State', 'language': 'No language found.'}, {'language': 'No language found.', 'title': 'Mai Zheng @Iowa State', 'source': 'https://www.ece.iastate.edu/~mai/lab/dsl.html'}, {'title': 'Mai Zheng @Iowa State', 'source': 'https://www.ece.iastate.edu/~mai/lab/dsl.html', 'language': 'No language found.'}, {'source': 'https://www.ece.iastate.edu/~mai/lab/dsl.html', 'title': 'Mai Zheng @Iowa State', 'language': 'No language found.'}, {'source': 'https://www.ece.iastate.edu/~mai/lab/dsl.html', 'title': 'Mai Zheng @Iowa State', 'language': 'No language found.'}, {'source': 'https://www.ece.iastate.edu/~mai/lab/dsl.html', 'language': 'No language found.', 'title': 'Mai Zheng @Iowa State'}, {'source': 'https://www.ece.iastate.edu/~mai/lab/dsl.html', 'language': 'No language found.', 'title': 'Mai Zheng @Iowa State'}, {'language': 'No language found.', 'title': 'Mai Zheng @Iowa State', 'source': 'https://www.ece.iastate.edu/~mai/lab/dsl.html'}, {'language': 'No language found.', 'source': 'https://www.ece.iastate.edu/~mai/lab/dsl.html', 'title': 'Mai Zheng @Iowa State'}, {'title': 'Mai Zheng @Iowa State', 'source': 'https://www.ece.iastate.edu/~mai/lab/dsl.html', 'language': 'No language found.'}, {'language': 'No language found.', 'source': 'https://www.ece.iastate.edu/~mai/lab/dsl.html', 'title': 'Mai Zheng @Iowa State'}, {'source': 'https://www.ece.iastate.edu/~mai/lab/dsl.html', 'language': 'No language found.', 'title': 'Mai Zheng @Iowa State'}, {'language': 'No language found.', 'title': 'Mai Zheng @Iowa State', 'source': 'https://www.ece.iastate.edu/~mai/lab/dsl.html'}]}\n"
          ]
        }
      ]
    },
    {
      "cell_type": "code",
      "source": [
        "print(\"\\nCollection 1 - \", vectorstore._collection.get(ids=['27279d12-2dde-4a09-990b-0ac0a6d2f316'], include=[\"embeddings\", \"documents\"]))\n",
        "print(\"\\nCollection 2 - \", vectorstore._collection.get(ids=['4dced845-8e89-49f2-a98b-1bd7ff36ac12'], include=[\"embeddings\", \"documents\"]))\n",
        "print(\"\\nCollection 3 - \", vectorstore._collection.get(ids=['a15f9148-719e-40f7-a007-b8421702bc40'], include=[\"embeddings\", \"documents\"]))"
      ],
      "metadata": {
        "colab": {
          "base_uri": "https://localhost:8080/"
        },
        "id": "tAuSljxw80XV",
        "outputId": "2fe2aea7-594e-4c1a-dcb6-06ac521966bf"
      },
      "execution_count": 55,
      "outputs": [
        {
          "output_type": "stream",
          "name": "stdout",
          "text": [
            "\n",
            "Collection 1 -  {'ids': ['27279d12-2dde-4a09-990b-0ac0a6d2f316'], 'embeddings': array([[-0.02759089, -0.00676405,  0.00690441, ..., -0.02833948,\n",
            "        -0.0051265 , -0.0131939 ]]), 'documents': [\"Mai Zheng @Iowa State\\n \\n\\n\\n\\n\\n\\n\\n\\n\\n\\n\\nMai Zheng\\n               (Mike)\\n\\nAssociate Professor\\nDept.\\n                of Electrical and Computer Engineering\\n\\nData Storage Lab (DSL)\\n\\nCenter for Cybersecurity Innovation\\n                & Outreach (CyIO)\\n\\nCenter for Wireless, Communities and\\n                Innovation (WiCI)\\n\\n \\n Office: 349 Durham Hall\\n              Phone: (515)\\n                294-6285 \\n              Email: mai AT iastate DOT edu \\nwww.ece.iastate.edu/~mai\\n\\n\\n\\n I'm interested in all\\n                  things data storage (e.g., file systems,\\n              non-volatile memories, key-value stores, data-intensive computing,\\n              data-centric infrastructures). I'm leading the Data\\n                  Storage Lab where we play with the latest storage\\n              technologies and strive to advance the integrity, security,\\n              scalability, usability etc for data, for people, or just for fun.\"], 'uris': None, 'included': ['embeddings', 'documents'], 'data': None, 'metadatas': None}\n",
            "\n",
            "Collection 2 -  {'ids': ['4dced845-8e89-49f2-a98b-1bd7ff36ac12'], 'embeddings': array([[-0.00045822,  0.00736604,  0.01645957, ...,  0.00263443,\n",
            "        -0.02827564, -0.01534016]]), 'documents': [\"Data Storage Lab\\nOur research are\\n              motivated by real problems of mission-critical systems that jeopardize\\n              data, e.g.: \\n\\n\\n\\n\\n \\n\\n\\n\\n\\n                              Crash, \\n                              Corruption, & Bug\\n                          across system layers\\n                          ==> [SSD: TOCS'16/FAST'13 |\\n                       \\n                        FS: FAST'23,\\n                        FAST'18 |\\n                          OS: TOS'23 |\\n                        DB: OSDI'14]\\n                         Data\\n                              Lost & Service\\n                              Disruption\\n                          @HPC/Data\\n                            centers at scale\"], 'uris': None, 'included': ['embeddings', 'documents'], 'data': None, 'metadatas': None}\n",
            "\n",
            "Collection 3 -  {'ids': ['a15f9148-719e-40f7-a007-b8421702bc40'], 'embeddings': array([[ 0.00962926, -0.01597894,  0.02024095, ..., -0.0029491 ,\n",
            "        -0.02250921, -0.01499651]]), 'documents': [\"==> [HotStorage'24,\\n                        TOS'22/ICS'18,\\n                          IPDPS'23,\\n                        ATC'19]\\n                        Data\\n                              Provenance, Observability,\\n                          & Scalability\\n                          challenges\\n                        ==> [TPDS'24/HPDC'22,\\n                        ASPLOS'23,\\n                          ARA Platform]\\n                      \\n\\n\\n\\n\\n\\nWe build\\n              systems/tools to attack such problems and open source our \\n                research prototypes/datasets. \\n\\n\\n\\n\\n Current Members \\n\\n\\n\\nFaculty: Mai\\n                        Zheng \\nStudents:\\n                      \\n\\n\\n\\n\\n\\n\\n\\n\\n\\n\\n\\n\\n\\nWei Xu\\nChao Shi\\nRoop Kiran\\nAhmed Dajani\\nVarun Girimaji\\n\\n\\n\\n\\n\\n\\n\\n\\n\\n\\n \\n\\n\\n\\n\\n\\nVidhya Mannathu Parambil \\nJoshua John\\n Aaron Trelstad  \\n Zeren Yang\\n \\n\\n\\n\\n\\n\\n\\n\\n\\n\\n\\n Selected Projects\\n\\n\\n\\nLarge-Scale\\n                    High-Performance Storage Systems\"], 'uris': None, 'included': ['embeddings', 'documents'], 'data': None, 'metadatas': None}\n"
          ]
        }
      ]
    },
    {
      "cell_type": "markdown",
      "source": [
        "1. Set the vectorstore as the retriever\n",
        "2. I tried the Rag prompt available in the Langchain hub (Can also create a prompt if needed)\n",
        "3. Send this prompt to LLM, create a chatmodel\n",
        "\n"
      ],
      "metadata": {
        "id": "X24Pkd2DtXhK"
      }
    },
    {
      "cell_type": "code",
      "source": [
        "retriever = vectorstore.as_retriever()"
      ],
      "metadata": {
        "id": "EWUD5kc29gdU"
      },
      "execution_count": 56,
      "outputs": []
    },
    {
      "cell_type": "code",
      "source": [
        "from langchain import hub\n",
        "prompt = hub.pull(\"rlm/rag-prompt\")"
      ],
      "metadata": {
        "id": "w861xJ0vCMPE"
      },
      "execution_count": 57,
      "outputs": []
    },
    {
      "cell_type": "code",
      "source": [
        "from langchain_openai import ChatOpenAI\n",
        "llm = ChatOpenAI()"
      ],
      "metadata": {
        "id": "XVI5dUlZCtFY"
      },
      "execution_count": 58,
      "outputs": []
    },
    {
      "cell_type": "markdown",
      "source": [
        "1. Whenever you need the question as it is - we use runnable(task) passthrough in langchain.\n",
        "2. Whatever context im getting i need to join them and combine them together (join the splits in the vector store)\n",
        "3. Create a pipeline with the input as context and question\n",
        "passing these to the prompt\n",
        "-pass these to the llm\n",
        "- use stroutputparser to parse the output as content"
      ],
      "metadata": {
        "id": "BZMI2A0Vt7WH"
      }
    },
    {
      "cell_type": "code",
      "source": [
        "from langchain_core.runnables import RunnablePassthrough\n",
        "from langchain_core.output_parsers import StrOutputParser"
      ],
      "metadata": {
        "id": "f5knpKvnDqMD"
      },
      "execution_count": 59,
      "outputs": []
    },
    {
      "cell_type": "code",
      "source": [
        "def format_docs(docs):\n",
        "  return \"\\n\".join(doc.page_content for doc in docs)"
      ],
      "metadata": {
        "id": "R3wYXpfeEFP2"
      },
      "execution_count": 60,
      "outputs": []
    },
    {
      "cell_type": "code",
      "source": [
        "rag_chain = ({\"context\" : retriever | format_docs, \"question\" : RunnablePassthrough()}\n",
        "             | prompt\n",
        "             | llm\n",
        "             | StrOutputParser())"
      ],
      "metadata": {
        "id": "V5np_Tc_DFXz"
      },
      "execution_count": 61,
      "outputs": []
    },
    {
      "cell_type": "code",
      "source": [
        "rag_chain.invoke(\"Is Vidhya in data storage lab\")"
      ],
      "metadata": {
        "colab": {
          "base_uri": "https://localhost:8080/",
          "height": 35
        },
        "id": "utTbRPaAKWEz",
        "outputId": "e8c43cc7-8f1d-4046-eb71-2eabcde6e5b2"
      },
      "execution_count": 62,
      "outputs": [
        {
          "output_type": "execute_result",
          "data": {
            "text/plain": [
              "'Yes, Vidhya is in the data storage lab at the research institution.'"
            ],
            "application/vnd.google.colaboratory.intrinsic+json": {
              "type": "string"
            }
          },
          "metadata": {},
          "execution_count": 62
        }
      ]
    },
    {
      "cell_type": "code",
      "source": [
        "rag_chain.invoke(\"Was Aaron Trelstad an Undergraduate Intern?\")"
      ],
      "metadata": {
        "colab": {
          "base_uri": "https://localhost:8080/",
          "height": 53
        },
        "id": "2mfkgqM4KakE",
        "outputId": "0664e69a-e4c1-435a-cd77-b72cb956080b"
      },
      "execution_count": 71,
      "outputs": [
        {
          "output_type": "execute_result",
          "data": {
            "text/plain": [
              "'Yes, Aaron Trelstad was a part of the Data Storage Lab project as mentioned in the context. He was a member of the research team working on projects related to high-performance storage systems.'"
            ],
            "application/vnd.google.colaboratory.intrinsic+json": {
              "type": "string"
            }
          },
          "metadata": {},
          "execution_count": 71
        }
      ]
    },
    {
      "cell_type": "code",
      "source": [
        "rag_chain.invoke(\"Who all are the Ph.D. Mentees in the lab\")"
      ],
      "metadata": {
        "colab": {
          "base_uri": "https://localhost:8080/",
          "height": 53
        },
        "id": "E8uvOmwXKjfa",
        "outputId": "f7dbb2b9-1d88-4818-b770-86e1e818ec5d"
      },
      "execution_count": 64,
      "outputs": [
        {
          "output_type": "execute_result",
          "data": {
            "text/plain": [
              "'The Ph.D. Mentees in the lab are Wei Xu, Chao Shi, Roop Kiran, Ahmed Dajani, Varun Girimaji, Vidhya Mannathu Parambil, Joshua John, Aaron Trelstad, and Zeren Yang.'"
            ],
            "application/vnd.google.colaboratory.intrinsic+json": {
              "type": "string"
            }
          },
          "metadata": {},
          "execution_count": 64
        }
      ]
    },
    {
      "cell_type": "code",
      "source": [
        "rag_chain.invoke(\"What all projects in this lab\")"
      ],
      "metadata": {
        "colab": {
          "base_uri": "https://localhost:8080/",
          "height": 87
        },
        "id": "Bu1u0MSdKvUK",
        "outputId": "1aad0871-28c7-44e6-fa1e-3736786bfecb"
      },
      "execution_count": 65,
      "outputs": [
        {
          "output_type": "execute_result",
          "data": {
            "text/plain": [
              "\"The projects in this lab focus on real problems in mission-critical systems that jeopardize data, such as crashes, corruption, and bugs across various system layers like SSD, file systems, OS, and databases. The lab also works on addressing data loss and service disruption at scale in HPC/data centers. The main sponsors for this lab's projects include NSF, NIFA, US Ignite, and the PAWR Industry Consortium.\""
            ],
            "application/vnd.google.colaboratory.intrinsic+json": {
              "type": "string"
            }
          },
          "metadata": {},
          "execution_count": 65
        }
      ]
    },
    {
      "cell_type": "markdown",
      "source": [
        "\n",
        "\n",
        "---\n",
        "\n",
        "\n",
        "\n",
        "```\n",
        "# Checking the exact prompt passed to the llm for this experiment\n",
        "1. Create a custom function using RunnableLamda\n",
        "2. Create a function called print_prompt\n",
        "3. Create the rag chain again with the custom function for printing the prompt as input to llm\n",
        "```\n",
        "\n"
      ],
      "metadata": {
        "id": "2CUaK88Lkmq3"
      }
    },
    {
      "cell_type": "code",
      "source": [
        "from langchain_core.runnables import RunnableLambda"
      ],
      "metadata": {
        "id": "N1k9vBnqLduP"
      },
      "execution_count": 31,
      "outputs": []
    },
    {
      "cell_type": "code",
      "source": [
        "def print_prompt(prompt_text):\n",
        "  print(\"Prompt - \", prompt_text)\n",
        "  return prompt_text"
      ],
      "metadata": {
        "id": "V6rw1lQCLl8x"
      },
      "execution_count": 32,
      "outputs": []
    },
    {
      "cell_type": "code",
      "source": [
        "rag_chain_with_print = ({\"context\" : retriever | format_docs, \"question\" : RunnablePassthrough()}\n",
        "             | prompt\n",
        "             | RunnableLambda(print_prompt)\n",
        "             | llm\n",
        "             | StrOutputParser())"
      ],
      "metadata": {
        "id": "J4LDfcGMKzqJ"
      },
      "execution_count": 34,
      "outputs": []
    },
    {
      "cell_type": "code",
      "source": [
        "rag_chain_with_print.invoke(\"What all projects are covered in the lab?\")"
      ],
      "metadata": {
        "colab": {
          "base_uri": "https://localhost:8080/",
          "height": 107
        },
        "id": "R-wWOqyjLyWh",
        "outputId": "df33718b-32da-4025-de27-cfcc7139595f"
      },
      "execution_count": 35,
      "outputs": [
        {
          "output_type": "stream",
          "name": "stdout",
          "text": [
            "Prompt -  messages=[HumanMessage(content=\"You are an assistant for question-answering tasks. Use the following pieces of retrieved context to answer the question. If you don't know the answer, just say that you don't know. Use three sentences maximum and keep the answer concise.\\nQuestion: What all projects are covered in the lab? \\nContext: Data Storage Lab\\nOur research are\\n              motivated by real problems of mission-critical systems that jeopardize\\n              data, e.g.: \\n\\n\\n\\n\\n \\n\\n\\n\\n\\n                              Crash, \\n                              Corruption, & Bug\\n                          across system layers\\n                          ==> [SSD: TOCS'16/FAST'13 |\\n                       \\n                        FS: FAST'23,\\n                        FAST'18 |\\n                          OS: TOS'23 |\\n                        DB: OSDI'14]\\n                         Data\\n                              Lost & Service\\n                              Disruption\\n                          @HPC/Data\\n                            centers at scale\\nOpen Source\\n                                Artifacts: [ARA Platform]\\n                              \\n\\n                                Main Sponsors: \\n                                [NSF \\n                                | NIFA \\n                                | US Ignite\\n                                | PAWR Industry Consortium]\\n                              \\n\\n\\n\\n\\n\\n\\n\\n\\n\\n\\n Selected Outreach Activities \\n\\n\\n\\n\\n\\n\\n\\n \\n\\n\\n\\n \\n\\n\\n\\n\\n\\n\\n\\n\\n\\n\\n\\n\\n\\n\\n \\n\\n\\n\\n \\n\\n\\n\\n\\n\\n\\n\\n\\n\\n\\n Full\\n                    Publication List  \\n\\n Alumni\\n \\n\\n Acknowledgements\\n                       \\n\\n\\n\\n\\n\\n\\n\\n \\n\\n \\n\\n\\n Homepage\\n\\n                  CV \\n Data\\n                  Storage Lab\\n\\n                  Publications\\n\\n                  Students\\n\\n                  Teaching\\n\\n                  Service \\n\\n                  Ack.\\ncommunities and industries such as agriculture.\\n                              \\nRelevant Papers:\\n                                [ CN'25\\n                                | MobiCom'23\\n                                | WiNTECH'22\\n                                | \\n                                  WiNTECH'21]\\n==> [HotStorage'24,\\n                        TOS'22/ICS'18,\\n                          IPDPS'23,\\n                        ATC'19]\\n                        Data\\n                              Provenance, Observability,\\n                          & Scalability\\n                          challenges\\n                        ==> [TPDS'24/HPDC'22,\\n                        ASPLOS'23,\\n                          ARA Platform]\\n                      \\n\\n\\n\\n\\n\\nWe build\\n              systems/tools to attack such problems and open source our \\n                research prototypes/datasets. \\n\\n\\n\\n\\n Current Members \\n\\n\\n\\nFaculty: Mai\\n                        Zheng \\nStudents:\\n                      \\n\\n\\n\\n\\n\\n\\n\\n\\n\\n\\n\\n\\n\\nWei Xu\\nChao Shi\\nRoop Kiran\\nAhmed Dajani\\nVarun Girimaji\\n\\n\\n\\n\\n\\n\\n\\n\\n\\n\\n \\n\\n\\n\\n\\n\\nVidhya Mannathu Parambil \\nJoshua John\\n Aaron Trelstad  \\n Zeren Yang\\n \\n\\n\\n\\n\\n\\n\\n\\n\\n\\n\\n Selected Projects\\n\\n\\n\\nLarge-Scale\\n                    High-Performance Storage Systems \\nAnswer:\", additional_kwargs={}, response_metadata={})]\n"
          ]
        },
        {
          "output_type": "execute_result",
          "data": {
            "text/plain": [
              "'The projects covered in the lab include Large-Scale High-Performance Storage Systems, Data Provenance, Observability, and Scalability challenges, as well as Data Lost & Service Disruption at HPC/Data centers at scale. The lab also works on real problems of mission-critical systems that jeopardize data across system layers such as Crash, Corruption, and Bugs.'"
            ],
            "application/vnd.google.colaboratory.intrinsic+json": {
              "type": "string"
            }
          },
          "metadata": {},
          "execution_count": 35
        }
      ]
    }
  ]
}